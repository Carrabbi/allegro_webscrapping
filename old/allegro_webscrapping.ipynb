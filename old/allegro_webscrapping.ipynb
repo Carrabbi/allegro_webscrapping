{
 "cells": [
  {
   "cell_type": "code",
   "execution_count": 36,
   "id": "f317fa28",
   "metadata": {},
   "outputs": [],
   "source": [
    "from time import sleep\n",
    "from selenium.webdriver.common.by import By\n",
    "from selenium.webdriver import Opera\n",
    "from bs4 import BeautifulSoup\n",
    "import datetime\n",
    "import pandas as pd"
   ]
  },
  {
   "cell_type": "code",
   "execution_count": 45,
   "id": "845a7b06",
   "metadata": {},
   "outputs": [],
   "source": [
    "def get_details(d, browser):\n",
    "    \n",
    "    details_page.append(download_details_page(d['offer_url'], browser))\n",
    "    \n",
    "    one = details_page[d['offer_id_local']]\n",
    "    \n",
    "    temp_tab = one.find_all(class_='m9qz_yp mupj_ka mpof_vs _3c6dd_a2WKl')\n",
    "    \n",
    "    if temp_tab[2] == None:\n",
    "        d['brand'] = temp_tab[2]\n",
    "    else:\n",
    "        d['brand'] = temp_tab[2].text\n",
    "    \n",
    "    if temp_tab[3] == None:\n",
    "        d['model'] = \"Nieznany\"\n",
    "    else:\n",
    "        d['model'] = temp_tab[3].text\n",
    "    \n",
    "    one = details_page[d['offer_id_local']]\n",
    "    \n",
    "    one = one.find(class_ =\"m9qz_yp mgn2_23 mgn2_30_s mp4t_16 mryx_0 _b1f72_28UM3\")\n",
    "    \n",
    "    if one == None:\n",
    "        d['rating'] = one\n",
    "    else:\n",
    "        d['rating'] = one.text\n",
    "    \n",
    "    \n",
    "    one = details_page[d['offer_id_local']]\n",
    "    \n",
    "    temp_tab = None\n",
    "    temp_tab = one.find_all('h4')\n",
    "    \n",
    "    if temp_tab[0] == None:\n",
    "        d['offer_title'] = temp_tab[0]\n",
    "    else:\n",
    "        d['offer_title'] = temp_tab[0].text\n",
    "        \n",
    "        \n",
    "    one = details_page[d['offer_id_local']]\n",
    "    \n",
    "    try:\n",
    "        temp = one.find('div', class_=\"mp0t_0a mqu1_21 mli8_k4 mgn2_13 mgmw_ag mp4t_8\")\n",
    "        d['bought'] = one.text\n",
    "    except:\n",
    "        d['bought'] = \"0 osób kupiło\"\n",
    "\n",
    "        "
   ]
  },
  {
   "cell_type": "code",
   "execution_count": 46,
   "id": "59596bf6",
   "metadata": {},
   "outputs": [],
   "source": [
    "def get_offers(page_no, browser):\n",
    "    results = []\n",
    "    \n",
    "    content = contents[-1]['content']\n",
    "    \n",
    "    articles = [article for article in content.find_all('article', class_='mx7m_1 mnyp_co mlkp_ag _6a66d_YapB2', limit=60, recursive=True)]  \n",
    "\n",
    "    offer_id_local = len(data) - 1\n",
    "    \n",
    "    for article in articles:\n",
    "        #ignorowanie ofert sponsorowanych\n",
    "        if article.find(class_=\"_1y62o mpof_ki _6a66d_qjI85\", recursive=True) == None:\n",
    "            offer_id_local+=1\n",
    "            temp_list = article.find_all(class_=\"mpof_uk mp4t_0 m3h2_0 mryx_0 munh_0 mgmw_ia mg9e_0 mj7a_0 mh36_0 _6a66d_qXGzd\")\n",
    "            if temp_list[1].text == \"ATX\":\n",
    "                temp = article[\"data-analytics-view-value\"]\n",
    "                offer_id = temp\n",
    "                supply_power = temp_list[0].text\n",
    "                supply_standard = temp_list[1].text\n",
    "                supply_cert = temp_list[2].text\n",
    "                temp = article.find('a')\n",
    "                offer_url = temp['href']\n",
    "                \n",
    "                   \n",
    "                temp = article.find(class_=\"_1svub _lf05o\")\n",
    "                price = temp[\"aria-label\"]\n",
    "                \n",
    "                results.append({'offer_id_local': int(offer_id_local),\n",
    "                                'page_no': page_no,\n",
    "                                'offer_id': offer_id,\n",
    "                                'psu_power': supply_power,\n",
    "                                'psu_standard': supply_standard,\n",
    "                                'psu_cert': supply_cert,\n",
    "                                'offer_url': str(offer_url),\n",
    "                                'price': price,\n",
    "                                'brand': None,\n",
    "                                'rating': None,\n",
    "                                'model': None,\n",
    "                                'offer_title': None,\n",
    "                                'bought': None\n",
    "                               })\n",
    "                \n",
    "        \n",
    "    df_art = pd.json_normalize(results, sep=\"_\")\n",
    "    \n",
    "    df_art.to_csv (\n",
    "    f\"./raw/data/raw_articles.csv\",\n",
    "    sep=\";\",\n",
    "    encoding=\"UTF-8\",\n",
    "    index=False\n",
    "    )\n",
    "        \n",
    "    \n",
    "    \n",
    "    return results"
   ]
  },
  {
   "cell_type": "code",
   "execution_count": 47,
   "id": "cc321a2a",
   "metadata": {},
   "outputs": [],
   "source": [
    "def download_page(page_no, browser):\n",
    "    url=f'https://allegro.pl/kategoria/podzespoly-komputerowe-zasilacze-259437?allegro-smart-standard=1&stan=nowe&certyfikat=80%20PLUS%20Bronze&certyfikat=80%20PLUS%20Silver&certyfikat=80%20PLUS%20Gold&certyfikat=80%20PLUS%20Platinum&certyfikat=80%20PLUS%20Titanium&modularne-okablowanie=w%20pełni%20modularne&modularne-okablowanie=częściowo%20modularne&modularne-okablowanie=brak&producent=Aerocool&producent=ASUS&producent=be%20quiet!&producent=Chieftec&producent=Cooler%20Master&producent=Corsair&producent=Fractal%20Design&producent=Gigabyte&producent=LC-Power&producent=LC%20Power&producent=MODECOM&producent=Seasonic&producent=SilentiumPC&producent=Thermaltake&producent=Zalman&p={page_no}'\n",
    "    \n",
    "    html = browser.get(\"view-source:\" + url)\n",
    "    html = browser.find_element_by_tag_name('body').text\n",
    "    sleep(4)\n",
    "   \n",
    "    return BeautifulSoup(html)"
   ]
  },
  {
   "cell_type": "code",
   "execution_count": 48,
   "id": "2494c77f",
   "metadata": {},
   "outputs": [],
   "source": [
    "def download_details_page(offer_url, browser):\n",
    "    url=f'{offer_url}'\n",
    "    \n",
    "    html = browser.get(\"view-source:\" + url)\n",
    "    html = browser.find_element_by_tag_name('body').text\n",
    "    sleep(5)\n",
    "   \n",
    "    return BeautifulSoup(html)"
   ]
  },
  {
   "cell_type": "code",
   "execution_count": 49,
   "id": "3e63c71e",
   "metadata": {},
   "outputs": [],
   "source": [
    "def get_page(page_no, browser):\n",
    "    results = []\n",
    "    page = download_page(page_no, browser)\n",
    "    results.append({'page_no': page_no, 'content': page})\n",
    "\n",
    "    return results"
   ]
  },
  {
   "cell_type": "code",
   "execution_count": 54,
   "id": "ec1fceeb",
   "metadata": {
    "scrolled": false
   },
   "outputs": [],
   "source": [
    "try:\n",
    "    browser = Opera(executable_path=\"./drivers/operadriver.exe\")\n",
    "except:\n",
    "    browser.switch_to.window(browser.window_handles[0])\n",
    "finally:\n",
    "    data = []\n",
    "    contents = []\n",
    "    articles = []\n",
    "\n",
    "    browser.get(\"https://google.pl\")\n",
    "    sleep(2)\n",
    "\n",
    "\n",
    "    browser.execute_script(\"window.open('');\")\n",
    "    browser.switch_to.window(browser.window_handles[1])\n",
    "    browser.get(\"https://wp.pl\")\n",
    "    sleep(4)\n",
    "\n",
    "    browser.get(\"https://allegro.pl/kategoria/podzespoly-komputerowe-zasilacze-259437\")\n",
    "\n",
    "\n",
    "    sleep(4)\n",
    "\n",
    "    try:\n",
    "        button  = browser.find_element(By.XPATH, '//button[text()=\"Ok, zgadzam się\"]')\n",
    "        if button:\n",
    "            button.click()\n",
    "            sleep(6)\n",
    "\n",
    "    except:\n",
    "        sleep(3)\n",
    "\n",
    "    finally:\n",
    "\n",
    "        sleep(3) \n",
    "        page_no=83\n",
    "\n",
    "        articles = []\n",
    "\n",
    "\n",
    "        while True:\n",
    "            page_no+=1\n",
    "            if(page_no == 84):\n",
    "                browser.close()\n",
    "                break\n",
    "            sleep(11) \n",
    "            contents.extend(get_page(page_no, browser))\n",
    "            data.extend(get_offers(page_no, browser))\n",
    "        \n",
    "        \n",
    "            \n",
    "        browser.switch_to.window(browser.window_handles[0])\n",
    "        browser.close()"
   ]
  },
  {
   "cell_type": "code",
   "execution_count": 43,
   "id": "e76c03d8",
   "metadata": {},
   "outputs": [],
   "source": [
    "\n",
    "        df = pd.json_normalize(data, sep=\"_\")\n",
    "        \n",
    "        df.to_csv(\n",
    "        f\"./raw/data/data_raw.csv\",\n",
    "        sep=\";\",\n",
    "        encoding=\"UTF-8\",\n",
    "        index=False\n",
    "        )"
   ]
  },
  {
   "cell_type": "code",
   "execution_count": 44,
   "id": "55542a8c",
   "metadata": {},
   "outputs": [
    {
     "name": "stdout",
     "output_type": "stream",
     "text": [
      "0\n"
     ]
    }
   ],
   "source": [
    "print(len(contents))"
   ]
  },
  {
   "cell_type": "code",
   "execution_count": 15,
   "id": "a71457f9",
   "metadata": {},
   "outputs": [],
   "source": [
    "for item in contents:\n",
    "    with open(f\"./raw/contents/{item['page_no']}_content_page.html\", 'w',  encoding=\"utf-8\") as out_file:\n",
    "        out_file.write(str(item['content']))\n",
    "            "
   ]
  },
  {
   "cell_type": "code",
   "execution_count": 53,
   "id": "fadfbd47",
   "metadata": {},
   "outputs": [
    {
     "ename": "IndentationError",
     "evalue": "expected an indented block (<ipython-input-53-8b2862eac434>, line 27)",
     "output_type": "error",
     "traceback": [
      "\u001b[1;36m  File \u001b[1;32m\"<ipython-input-53-8b2862eac434>\"\u001b[1;36m, line \u001b[1;32m27\u001b[0m\n\u001b[1;33m    except:\u001b[0m\n\u001b[1;37m         ^\u001b[0m\n\u001b[1;31mIndentationError\u001b[0m\u001b[1;31m:\u001b[0m expected an indented block\n"
     ]
    }
   ],
   "source": [
    "try:\n",
    "    browser = Opera(executable_path=\"./drivers/operadriver.exe\")\n",
    "except:\n",
    "    browser.switch_to.window(browser.window_handles[0])\n",
    "finally:\n",
    "\n",
    "    df = pd.read_csv(\n",
    "        \"./raw/data/data_raw.csv\",\n",
    "        sep=\";\",\n",
    "        encoding=\"UTF-8\",\n",
    "    )\n",
    "\n",
    "    \n",
    "    sleep(4)\n",
    "\n",
    "    browser.execute_script(\"window.open('');\")\n",
    "\n",
    "    browser.switch_to.window(browser.window_handles[1])\n",
    "    browser.get(\"https://twitter.pl\")\n",
    "    sleep(4)\n",
    "    browser.get(\"https://allegro.pl/kategoria\")\n",
    "    sleep(4)\n",
    "\n",
    "    try:\n",
    "        try:\n",
    "            html = browser.get(\"view-source:\" + url)\n",
    "            html = browser.find_element_by_tag_name('body').text\n",
    "            html.find()\n",
    "        except:\n",
    "        \n",
    "        finally:\n",
    "            button  = browser.find_element(By.XPATH, '//button[text()=\"Ok, zgadzam się\"]') \n",
    "            if button:\n",
    "                button.click()\n",
    "                sleep(6)\n",
    "\n",
    "    except:\n",
    "        sleep(3)\n",
    "\n",
    "    finally:\n",
    "        details_page = []\n",
    "\n",
    "        for d in df:\n",
    "            sleep(11)\n",
    "            get_details(d, browser)\n",
    "\n",
    "        browser.get(\"https://twitter.pl\")\n",
    "        sleep(4)\n",
    "\n",
    "        browser.close()\n",
    "        browser.switch_to.window(browser.window_handles[0])     \n",
    "\n",
    "        \n",
    "    \n",
    "        df.to_csv(\n",
    "        f\"./raw/data/psu_raw.csv\",\n",
    "        sep=\";\",\n",
    "        encoding=\"UTF-8\",\n",
    "        index=False\n",
    "        )\n",
    "\n",
    "        browser.close()\n",
    "\n"
   ]
  },
  {
   "cell_type": "code",
   "execution_count": null,
   "id": "7b715f2a",
   "metadata": {},
   "outputs": [],
   "source": [
    "int i = 0;\n",
    "while i < len(details_page):\n",
    "    with open(f\"./raw/details_page/{i}_details_page.html\", 'w',  encoding=\"utf-8\") as out_file:\n",
    "        out_file.write(str(detail_page[i]))\n",
    "    i+=1"
   ]
  },
  {
   "cell_type": "code",
   "execution_count": 27,
   "id": "e43b3206",
   "metadata": {},
   "outputs": [
    {
     "name": "stdout",
     "output_type": "stream",
     "text": [
      "154\n"
     ]
    }
   ],
   "source": [
    "print(len(data))"
   ]
  },
  {
   "cell_type": "code",
   "execution_count": 76,
   "id": "26be0961",
   "metadata": {},
   "outputs": [
    {
     "name": "stdout",
     "output_type": "stream",
     "text": [
      "71 osób kupiło\n",
      "24 osoby kupiły\n",
      "13 osób kupiło\n",
      "19 osób kupiło\n",
      "10 osób kupiło\n",
      "4 osoby kupiły\n"
     ]
    }
   ],
   "source": [
    "for each in data:\n",
    "    print(each['bought'])"
   ]
  },
  {
   "cell_type": "code",
   "execution_count": null,
   "id": "2c9f09b0",
   "metadata": {},
   "outputs": [],
   "source": [
    "df.shape"
   ]
  },
  {
   "cell_type": "code",
   "execution_count": null,
   "id": "c1ad555e",
   "metadata": {},
   "outputs": [],
   "source": [
    "df.to_csv(\n",
    "    f\"../data/interim/{datetime.datetime.now().date()}_supply_offers.csv\",\n",
    "    sep=\";\",\n",
    "    encoding=\"UTF-8\",\n",
    "    index=False\n",
    ")"
   ]
  }
 ],
 "metadata": {
  "kernelspec": {
   "display_name": "Python 3",
   "language": "python",
   "name": "python3"
  },
  "language_info": {
   "codemirror_mode": {
    "name": "ipython",
    "version": 3
   },
   "file_extension": ".py",
   "mimetype": "text/x-python",
   "name": "python",
   "nbconvert_exporter": "python",
   "pygments_lexer": "ipython3",
   "version": "3.6.13"
  }
 },
 "nbformat": 4,
 "nbformat_minor": 5
}
