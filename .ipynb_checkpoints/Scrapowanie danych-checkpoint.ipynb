{
 "cells": [
  {
   "cell_type": "code",
   "execution_count": 130,
   "id": "2e4ef349",
   "metadata": {},
   "outputs": [],
   "source": [
    "import pandas as pd\n",
    "from bs4 import BeautifulSoup\n",
    "import glob\n",
    "import re\n",
    "import os\n",
    "import datetime"
   ]
  },
  {
   "cell_type": "code",
   "execution_count": 123,
   "id": "911ea39a",
   "metadata": {},
   "outputs": [],
   "source": [
    "def parse_location(location):\n",
    "    if re.search(\"Zdalna\", location):\n",
    "        city = \"Zdalna\"\n",
    "        country = \"N/A\"\n",
    "    else:\n",
    "        city, country = location.split(\",\")\n",
    "        city = city.strip(\"$\").strip()\n",
    "        country = country.strip()[:3]\n",
    "    return {'city': city, 'country': country}"
   ]
  },
  {
   "cell_type": "code",
   "execution_count": 101,
   "id": "b00dec36",
   "metadata": {},
   "outputs": [],
   "source": [
    "def parse_salary(salary):\n",
    "    bounds = re.findall(r\"[0-9]+\", salary.replace(\" \", \"\"))\n",
    "    currency = salary.split()[-1]\n",
    "    return {'low': bounds[0], 'high': bounds[1], 'currency': currency}"
   ]
  },
  {
   "cell_type": "code",
   "execution_count": 126,
   "id": "74ecfab8",
   "metadata": {},
   "outputs": [],
   "source": [
    "def parse_job(offer):\n",
    "    name = offer.find(\"h3\", class_=\"posting-title__position\").text.strip()\n",
    "    company = offer.find(\"span\", class_=\"posting-title__company\").text.replace(\"@\", \"\").strip()\n",
    "    offer_info = offer.find(\"div\", class_=\"posting-info\")\n",
    "    salary = offer_info.find(\"span\", class_=\"salary\").text.strip()\n",
    "    salary_data = parse_salary(salary)\n",
    "    location = offer_info.find(\"span\", class_=\"posting-info__location\").text.strip()\n",
    "    location_data = parse_location(location)\n",
    "    technology = offer_info.find(\"a\")\n",
    "    \n",
    "    if technology:\n",
    "        technology = technology.text.strip()\n",
    "    else:\n",
    "        technology = \"N/A\"\n",
    "    \n",
    "    return {\n",
    "        'name': name,\n",
    "        'company': company,\n",
    "        'technology': technology,\n",
    "        'salary': salary_data,\n",
    "        'location': location_data\n",
    "    }"
   ]
  },
  {
   "cell_type": "code",
   "execution_count": 137,
   "id": "84d37a36",
   "metadata": {},
   "outputs": [],
   "source": [
    "data_dir = \"../data/raw\"\n",
    "\n",
    "result = []\n",
    "for entry in glob.glob(f\"{data_dir}/*\"):\n",
    "    with open(entry) as f:\n",
    "        html = f.read()\n",
    "    \n",
    "    job = os.path.basename(entry).split(\"_\")[0]\n",
    "    bs = BeautifulSoup(html)\n",
    "    offers = bs.find_all(\"a\", class_=\"posting-list-item\")\n",
    "    \n",
    "    for offer in offers:\n",
    "        parsed_offer = parse_job(offer)\n",
    "        parsed_offer['job'] = job\n",
    "        result.append(parsed_offer)"
   ]
  },
  {
   "cell_type": "code",
   "execution_count": 139,
   "id": "b959be48",
   "metadata": {
    "scrolled": true
   },
   "outputs": [
    {
     "data": {
      "text/html": [
       "<div>\n",
       "<style scoped>\n",
       "    .dataframe tbody tr th:only-of-type {\n",
       "        vertical-align: middle;\n",
       "    }\n",
       "\n",
       "    .dataframe tbody tr th {\n",
       "        vertical-align: top;\n",
       "    }\n",
       "\n",
       "    .dataframe thead th {\n",
       "        text-align: right;\n",
       "    }\n",
       "</style>\n",
       "<table border=\"1\" class=\"dataframe\">\n",
       "  <thead>\n",
       "    <tr style=\"text-align: right;\">\n",
       "      <th></th>\n",
       "      <th>name</th>\n",
       "      <th>company</th>\n",
       "      <th>technology</th>\n",
       "      <th>job</th>\n",
       "      <th>salary_low</th>\n",
       "      <th>salary_high</th>\n",
       "      <th>salary_currency</th>\n",
       "      <th>location_city</th>\n",
       "      <th>location_country</th>\n",
       "    </tr>\n",
       "  </thead>\n",
       "  <tbody>\n",
       "    <tr>\n",
       "      <th>0</th>\n",
       "      <td>Data Scientist</td>\n",
       "      <td>Kontomatik Sp. z o.o.</td>\n",
       "      <td>python</td>\n",
       "      <td>data scientist</td>\n",
       "      <td>8000</td>\n",
       "      <td>12000</td>\n",
       "      <td>PLN</td>\n",
       "      <td>Warszawa</td>\n",
       "      <td>POL</td>\n",
       "    </tr>\n",
       "    <tr>\n",
       "      <th>1</th>\n",
       "      <td>Data scientist/mathematical modeller</td>\n",
       "      <td>IDEA team within Narodowe Centrum Badań Jądrowych</td>\n",
       "      <td>N/A</td>\n",
       "      <td>data scientist</td>\n",
       "      <td>7000</td>\n",
       "      <td>13000</td>\n",
       "      <td>PLN</td>\n",
       "      <td>Warszawa</td>\n",
       "      <td>POL</td>\n",
       "    </tr>\n",
       "    <tr>\n",
       "      <th>2</th>\n",
       "      <td>Data Scientist</td>\n",
       "      <td>Devire</td>\n",
       "      <td>python</td>\n",
       "      <td>data scientist</td>\n",
       "      <td>8000</td>\n",
       "      <td>16000</td>\n",
       "      <td>PLN</td>\n",
       "      <td>Zdalna</td>\n",
       "      <td>N/A</td>\n",
       "    </tr>\n",
       "    <tr>\n",
       "      <th>3</th>\n",
       "      <td>Data Scientist</td>\n",
       "      <td>MindMics.com</td>\n",
       "      <td>python</td>\n",
       "      <td>data scientist</td>\n",
       "      <td>8000</td>\n",
       "      <td>15000</td>\n",
       "      <td>PLN</td>\n",
       "      <td>Kraków</td>\n",
       "      <td>POL</td>\n",
       "    </tr>\n",
       "    <tr>\n",
       "      <th>4</th>\n",
       "      <td>Data Scientist</td>\n",
       "      <td>Orange Polska</td>\n",
       "      <td>python</td>\n",
       "      <td>data scientist</td>\n",
       "      <td>9000</td>\n",
       "      <td>18000</td>\n",
       "      <td>PLN</td>\n",
       "      <td>Warszawa</td>\n",
       "      <td>POL</td>\n",
       "    </tr>\n",
       "  </tbody>\n",
       "</table>\n",
       "</div>"
      ],
      "text/plain": [
       "                                   name  \\\n",
       "0                        Data Scientist   \n",
       "1  Data scientist/mathematical modeller   \n",
       "2                        Data Scientist   \n",
       "3                        Data Scientist   \n",
       "4                        Data Scientist   \n",
       "\n",
       "                                             company technology  \\\n",
       "0                              Kontomatik Sp. z o.o.     python   \n",
       "1  IDEA team within Narodowe Centrum Badań Jądrowych        N/A   \n",
       "2                                             Devire     python   \n",
       "3                                       MindMics.com     python   \n",
       "4                                      Orange Polska     python   \n",
       "\n",
       "              job salary_low salary_high salary_currency location_city  \\\n",
       "0  data scientist       8000       12000             PLN      Warszawa   \n",
       "1  data scientist       7000       13000             PLN      Warszawa   \n",
       "2  data scientist       8000       16000             PLN        Zdalna   \n",
       "3  data scientist       8000       15000             PLN        Kraków   \n",
       "4  data scientist       9000       18000             PLN      Warszawa   \n",
       "\n",
       "  location_country  \n",
       "0              POL  \n",
       "1              POL  \n",
       "2              N/A  \n",
       "3              POL  \n",
       "4              POL  "
      ]
     },
     "execution_count": 139,
     "metadata": {},
     "output_type": "execute_result"
    }
   ],
   "source": [
    "df = pd.json_normalize(result, sep=\"_\")\n",
    "df.head()"
   ]
  },
  {
   "cell_type": "code",
   "execution_count": 140,
   "id": "55669bbf",
   "metadata": {},
   "outputs": [
    {
     "data": {
      "text/plain": [
       "(93, 9)"
      ]
     },
     "execution_count": 140,
     "metadata": {},
     "output_type": "execute_result"
    }
   ],
   "source": [
    "df.shape"
   ]
  },
  {
   "cell_type": "code",
   "execution_count": 141,
   "id": "99614090",
   "metadata": {},
   "outputs": [],
   "source": [
    "df.to_csv(\n",
    "    f\"../data/interim/job_offers_{datetime.datetime.now().date()}.csv\",\n",
    "    sep=\";\",\n",
    "    encoding=\"UTF-8\",\n",
    "    index=False\n",
    ")"
   ]
  }
 ],
 "metadata": {
  "kernelspec": {
   "display_name": "Python 3",
   "language": "python",
   "name": "python3"
  },
  "language_info": {
   "codemirror_mode": {
    "name": "ipython",
    "version": 3
   },
   "file_extension": ".py",
   "mimetype": "text/x-python",
   "name": "python",
   "nbconvert_exporter": "python",
   "pygments_lexer": "ipython3",
   "version": "3.6.13"
  }
 },
 "nbformat": 4,
 "nbformat_minor": 5
}
